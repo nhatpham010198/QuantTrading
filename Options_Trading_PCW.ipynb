{
 "cells": [
  {
   "cell_type": "code",
   "execution_count": 1,
   "metadata": {
    "id": "7gA5ytWG9hWp"
   },
   "outputs": [],
   "source": [
    "import scipy.stats as sts\n",
    "import numpy as np\n",
    "import matplotlib.pyplot as plt\n",
    "import seaborn as sns\n",
    "import warnings\n",
    "warnings.simplefilter(action='ignore', category=Warning)"
   ]
  },
  {
   "cell_type": "markdown",
   "metadata": {
    "id": "kENzTscRHxph"
   },
   "source": [
    "# Pre-class Work - Option Trading\n",
    "\n",
    "In this session, we will learn that theoretical option pricing is key to options trading. The Black-Scholes model is the most important option pricing model, and its extensions can be used in various option trading scenarios. It is very hard to find a reading of the BS model that strikes a good balance between theoretical rigor and practical usability. Therefore, in this pre-class notebook, I will try to explain and demonstrate the model with Monte Carlo simulations. Please first read the readings (which may seem a bit hard to understand), then proceed with this notebook."
   ]
  },
  {
   "cell_type": "markdown",
   "metadata": {
    "id": "tWQmv9_OB405"
   },
   "source": [
    "### Assumptions"
   ]
  },
  {
   "cell_type": "markdown",
   "metadata": {
    "id": "YgtCQuCKJsrj"
   },
   "source": [
    "The vanilla BS model that we will focus on in this session has some key assumptions:\n",
    "\n",
    "1. The option is European and can only be exercised at expiration.\n",
    "    - American options can be excercised anytime before expiration, thus making it more complex than the European ones. However, you can make some modifications to the BS model and it will be completely compatible with American options. We won't go into detail this session, but you can find a decent amount of literature that uses different variations of the BS model to trade American, Asian, or other \"exotic\" options.\n",
    "2. No dividends are paid out during the life of the option.\n",
    "3. Markets are efficient (i.e., market movements cannot be predicted).\n",
    "    - The efficient market hypothesis states that financial markets are “efficient” in that prices already reflect all known information concerning a stock. Information includes not only what is currently known, but also future expectations, such as earnings and dividends. Only new information will move stock prices significantly, and since new information is presently unknown and occurs at random, good or bad, future movements in stock prices are also unknown and thus, random. The basis of the efficient market hypothesis is that the market consists of many rational investors who are constantly reading the news and reacting quickly to any new significant information about a security.\n",
    "4. There are no transaction costs in buying the option.\n",
    "    - Brokers do charge commissions for your options trades. This can also be modeled by just adding the transaction cost to your pricing model. Taxes are also a consideration for transaction costs.\n",
    "5. The risk-free rate and volatility of the underlying are known and constant.\n",
    "    - The risk-free rate (e.g. interest rate) is subject to changes. Same does the volatility, because volatility fluctuates with the level of supply and demand.\n",
    "6. The returns on the underlying asset are normally distributed.\n",
    "    - One of the most important assumptions! I will explain this assumption below.\n"
   ]
  },
  {
   "cell_type": "markdown",
   "metadata": {
    "id": "52dSNB8I93ch"
   },
   "source": [
    "**Geometric Brownian Motion**\n",
    "\n",
    "Before we go into the details of the BS model, we need to address the assumption 6 above. Understanding this assumption can help us master the model. In chapter 6 of Natenberg's book, you already know how the price and the volatility correspond to the mean and standard deviation of an asset price. In the mathematical language, we often say that the price of a stock follows Geometric Brownian Motion (GBM).\n",
    "\n",
    "Suppose a stock price $S$ is going to fluctuate randomly. The fluctuation $dS$ for any small time interval $dt$ follows $N(0,\\sigma^2dt)$. This is equivalent to $\\sigma\\sqrt{dt}Z_t$, where $Z_t\\sim{N(0,1)}$. \n",
    "\n",
    "But sometimes the price of a stock does seem to have a trend (i.e. doesn't have a mean of 0). We can add another term called drift, $\\mu$, to model any long term inclination of a stock price. That gives us $dS = \\mu dt+\\sigma\\sqrt{dt}Z_t, Z_t\\sim{N(0,1)}$.\n",
    "\n",
    "That sounds cool, right? Not really. The movement of a stock price is NOT unlimited - it can't go below 0. If we stick with the current equation for $dS$, there is a chance that the price can drop infinitely. To solve this problem, an MIT professor came up with this idea: a stock’s price increment should be proportional to the present price, i.e. $dS = S_t(\\mu dt+\\sigma\\sqrt{dt}Z_t), Z_t\\sim{N(0,1)}$. When a stock's price is 0, the jump of the price should also be 0. \n",
    "\n",
    "This gives of the final equation for GBM: $$\\frac{dS}{S_t} = \\mu dt+\\sigma\\sqrt{dt}Z_t, Z_t\\sim{N(0,1)}$$\n"
   ]
  },
  {
   "cell_type": "code",
   "execution_count": 6,
   "metadata": {},
   "outputs": [
    {
     "data": {
      "text/plain": [
       "-0.02018954926826128"
      ]
     },
     "execution_count": 6,
     "metadata": {},
     "output_type": "execute_result"
    }
   ],
   "source": [
    "sts.norm.rvs(0,1)"
   ]
  },
  {
   "cell_type": "markdown",
   "metadata": {
    "id": "TiznF0YpGigI"
   },
   "source": [
    "Now you may understand the GBM model. Let's do some simulations to see how this model approximates stock price! Here we take the random walk approach we learned in CS166. For each time step, we generate a $dS$ based on the GBM formula through random sampling from a normal distribution. Please fill in the code below:"
   ]
  },
  {
   "cell_type": "code",
   "execution_count": 10,
   "metadata": {
    "id": "B5bbYrII4rMi"
   },
   "outputs": [
    {
     "data": {
      "image/png": "[encoded data removed]",
      "text/plain": [
       "<Figure size 432x288 with 1 Axes>"
      ]
     },
     "metadata": {
      "needs_background": "light"
     },
     "output_type": "display_data"
    }
   ],
   "source": [
    "# Simulate GBM.\n",
    "\n",
    "class GBM():\n",
    "\n",
    "    def __init__(self,start_price = None, time = None, drift = 0, volatility = 1):\n",
    "        '''\n",
    "        time: time in years\n",
    "        drift: mu, per year, calculated on calendar year (365 days instead of 252 days)\n",
    "        volatility: standard deviation sigma, per square root year, calculated on calendar year (365 days instead of 252 days)\n",
    "        '''\n",
    "        self.time = time\n",
    "        self.drift = drift\n",
    "        self.volatility = volatility\n",
    "        self.dt = 1/365 # Assume that each time step is for one day\n",
    "        self.price = [start_price]\n",
    "\n",
    "    def simulation(self):\n",
    "        for i in range(round(self.time*365)-1):\n",
    "            S_t = self.price[-1]\n",
    "            ### Fill in the code below\n",
    "            Z_t = sts.norm.rvs(0,1)\n",
    "            dS =  self.volatility*Z_t*self.dt\n",
    "            self.price.append(S_t + dS)\n",
    "    \n",
    "    def display(self):\n",
    "        plt.plot(range(round(self.time*365)),self.price)\n",
    "        plt.title('Geometric Random Walk Simulation')\n",
    "        plt.xlabel('Number of days')\n",
    "        plt.ylabel('Price')\n",
    "        plt.show()\n",
    "\n",
    "\n",
    "a = GBM(start_price = 100, time = 3, drift = 0, volatility = 0.4) # Assume the drift is zero.\n",
    "a.simulation()\n",
    "a.display()"
   ]
  },
  {
   "cell_type": "markdown",
   "metadata": {
    "id": "LQz5x33BIOQ5"
   },
   "source": [
    "Doesn't it look at a stock price movement? Now that we've simulated the movement of a stock price. You can buy the stock at any moment in time, and sell it at another. You may wonder: how would the ending price of the stock look like? When you purchase a stock, and sell it in 3 years' time, how would the stock price, at the end of the period, be distributed? What's the probability of making/losing money? We can also show this through the GBM model.\n",
    "\n"
   ]
  },
  {
   "cell_type": "markdown",
   "metadata": {
    "id": "tL3FW6l6KLrl"
   },
   "source": [
    "#### *Theoretical Analysis*\n",
    "\n",
    "Here I will do a quick theoretical derivation of the distribution we are going to show, if you don't feel like it, just skim through below and jump to the conclusion.\n",
    "\n",
    "The end price of a stock price $S$ after a time period $T$, $S_T$ can be found by:\n",
    "\n",
    "First,\n",
    "$$S_{i+1} = S_i(1 + \\mu\\Delta{t} + \\sigma\\sqrt{\\Delta{t}}Z_i)$$\n",
    "\n",
    "Therefore, \n",
    "$$S_T = S_0\\prod_{i=1}^{n}(1 + \\mu\\Delta{t} + \\sigma\\sqrt{\\Delta{t}}Z_i)$$\n",
    "\n",
    "The exact $S_T$ is the limit of the above as $n\\rightarrow{\\infty}$ (or as $\\Delta{t}\\rightarrow{0}$)\n",
    "\n",
    "Using Taylor Series to solve the above limit, we can find out that **$S_T$ follows a lognormal distribution, i.e. $\\log{S_T}$ follows a normal distribution** with parameters $$\\mathop{\\mathbb{E}}[\\log{S_T}]=\\log{S_0}+\\mu T - 1/2\\sigma^2T$$ and $$\\text{var}{[\\log{S_T}]}=\\sigma^2T$$\n",
    "\n",
    "So similarly, $\\frac{S_T}{S_0}$ follows a lognormal distribution: \n",
    "$$\\frac{S_T}{S_0} \\sim LogN(\\mu T - 1/2\\sigma^2T,\\sigma^2T)$$\n",
    "\n",
    "**P.S. $\\frac{S_T}{S_0}$ is just the return (end price versus start price) you have when you trade the stock, which follows a lognormal distribution.**"
   ]
  },
  {
   "cell_type": "markdown",
   "metadata": {
    "id": "8Tb2DlF0MFYJ"
   },
   "source": [
    "Okay, now let's plot the distribution and observe."
   ]
  },
  {
   "cell_type": "code",
   "execution_count": 12,
   "metadata": {
    "id": "pex7Zv95MK71"
   },
   "outputs": [
    {
     "data": {
      "image/png": "[encoded data removed]",
      "text/plain": [
       "<Figure size 432x288 with 1 Axes>"
      ]
     },
     "metadata": {
      "needs_background": "light"
     },
     "output_type": "display_data"
    }
   ],
   "source": [
    "# Simulate for an ending price S_T, this may take a while.\n",
    "\n",
    "result = []\n",
    "# Simulate for 1000 times and record the ending price\n",
    "for i in range(1000):\n",
    "    sim = GBM(start_price = 100, time = 3, drift = 0, volatility = 0.4)\n",
    "    sim.simulation()\n",
    "    result.append(sim.price[-1])\n",
    "\n",
    "\n",
    "# Plot the result\n",
    "plt.hist(result,bins=50,density=True,label='Simulation result')\n",
    "x = np.linspace(0,500,500)\n",
    "# Plot the theoretical lognormal distribution.\n",
    "plt.plot(x,sts.lognorm.pdf(x,s = 0.4*3**0.5, scale = np.exp(np.log(100)-3*0.5*0.4**2)),\n",
    "         label='Theoretical distribution')\n",
    "plt.xlabel('Ending price')\n",
    "plt.ylabel('Density')\n",
    "plt.legend()\n",
    "plt.show()"
   ]
  },
  {
   "cell_type": "markdown",
   "metadata": {
    "id": "G6G-KdIzNT96"
   },
   "source": [
    "### Black-Scholes Model"
   ]
  },
  {
   "cell_type": "markdown",
   "metadata": {
    "id": "MGqLcWV3B8-L"
   },
   "source": [
    "Okay, now we've establish the basis of the BS Model. We can then derive the formula from the conclusions that we drawn above.\n",
    "\n",
    "We know that the ending price of a stock, $S_T$, follows a lognormal distribution. If we set the drift $\\mu$ as the risk-free interest rate $r$, we can get the risk-free growth of the asset. We can write out the density of this lognormal distribution: $$g(S)=\\frac{1}{S\\beta\\sqrt{2{\\pi}}} e^{-\\frac{(\\log{S}-\\alpha)^2}{2\\beta^2}}$$\n",
    "\n",
    "where $\\alpha=\\log{S_0}+(r-\\frac{\\sigma^2}{2})T$ is the mean and $\\beta=\\sigma\\sqrt{T}$ is the standard deviation of the distribution.\n",
    "\n",
    "Then, to calculate the expected payoff from this lognormal distribution, all we need to do is to integrate this density against the payoff function $G(S)$.\n",
    "\n",
    "$$\\mathop{\\mathbb{E}}(\\text{Payoff})=\\int_{0}^{\\infty}G(S)g(S)dS$$\n",
    "\n",
    "In a call option, $G(S)=\\max(S-K,0)$ and in a put option, $G(S)=\\max(K-S,0)$, where $K$ is the strike price.\n",
    "\n",
    "Solving this integral is not trivial, thus we will not cover it in this session. The result of the integral is the Black-Scholes formula:\n",
    "\n",
    "$$C=S_0\\phi({d_1})-Ke^{-rT}\\phi(d_2)$$\n",
    "$$P=Ke^{-rT}\\phi(-d_2)-S_0\\phi({-d_1})$$\n",
    "\n",
    "and $$d_1=\\frac{\\log(S_0/K)+(r+\\frac{1}{2}\\sigma^2)T}{\\sigma\\sqrt{T}}$$ $$d_2=d_1-\\sigma\\sqrt{T}=\\frac{\\log(S_0/K)+(r-\\frac{1}{2}\\sigma^2)T}{\\sigma\\sqrt{T}}$$\n",
    "\n",
    "where $$C = \\text{Call price}$$ $$P = \\text{Put price}$$ $$S_0 = \\text{Current underlying price}$$ $$K = \\text{Strike price}$$ $$T = \\text{Time to expiration}$$ $$r = \\text{Risk-free interest rate}$$ $$\\phi = \\text{The cumulative distribution of a normal distribution}$$"
   ]
  },
  {
   "cell_type": "markdown",
   "metadata": {
    "id": "UksbpOHNzKZ6"
   },
   "source": [
    "Now that we have the BS formula. We can use it to price an option."
   ]
  },
  {
   "cell_type": "markdown",
   "metadata": {
    "id": "gdIDJZU2zlig"
   },
   "source": [
    "**Exact Solution**\n",
    "\n",
    "First of all, let's code the BS model. (In all of the below excersies, we will assume it's a call option)"
   ]
  },
  {
   "cell_type": "code",
   "execution_count": 24,
   "metadata": {
    "id": "6-Iaeq-O0C_I"
   },
   "outputs": [],
   "source": [
    "def BS_call(S,T,r,K,sigma):\n",
    "    ### Fill in the code below to calculate a call option price\n",
    "    d_1 = (np.log(S/K) + (r + sigma**2)*T)/(sigma*np.sqrt(T))\n",
    "    d_2 = d_1 - sigma*np.sqrt(T)\n",
    "    C = S*sts.norm.cdf(d_1)-K*np.exp(-r*T)*sts.norm.cdf(-d_2)\n",
    "    return C"
   ]
  },
  {
   "cell_type": "markdown",
   "metadata": {
    "id": "mfU_t7MO8mC0"
   },
   "source": [
    "We can then observe how the option price changes with respect to the time from expiration $T$."
   ]
  },
  {
   "cell_type": "code",
   "execution_count": 26,
   "metadata": {
    "id": "0IVjbblf8vpb"
   },
   "outputs": [
    {
     "data": {
      "image/png": "[encoded data removed]",
      "text/plain": [
       "<Figure size 720x576 with 1 Axes>"
      ]
     },
     "metadata": {
      "needs_background": "light"
     },
     "output_type": "display_data"
    }
   ],
   "source": [
    "T = np.arange(1.0, 0.0, -0.001)\n",
    "S = 100\n",
    "r = 0.03\n",
    "sigma = 0.3\n",
    "# Please try 4 different K values below. Experiment around when strike price is above/equal/below the current price.\n",
    "\n",
    "\n",
    "### Fill in the code below\n",
    "plt.figure(figsize=(10,8))\n",
    "sns.lineplot(T,BS_call(S,T,r,100,sigma), label=\"100\" )\n",
    "sns.lineplot(T,BS_call(S,T,r,105,sigma), label=\"105\" )\n",
    "sns.lineplot(T,BS_call(S,T,r,110,sigma), label=\"110\" )\n",
    "sns.lineplot(T,BS_call(S,T,r,95,sigma ), label=\"95\" )\n",
    "\n",
    "plt.xlabel('T')\n",
    "plt.ylabel('C')\n",
    "plt.xlim(1.0,0.0)\n",
    "\n",
    "plt.legend()\n",
    "plt.show()"
   ]
  },
  {
   "cell_type": "markdown",
   "metadata": {
    "id": "g5cZWZ55-45G"
   },
   "source": [
    "We can also replicate the profit & loss diagram here. In particular, you can set $T=0$, and make a plot with $C$ on the y-axis and $S$ on the x-axis.\n",
    "\n"
   ]
  },
  {
   "cell_type": "code",
   "execution_count": 37,
   "metadata": {
    "id": "R--h5yg2_Nmq"
   },
   "outputs": [
    {
     "data": {
      "image/png": "[encoded data removed]",
      "text/plain": [
       "<Figure size 432x288 with 1 Axes>"
      ]
     },
     "metadata": {
      "needs_background": "light"
     },
     "output_type": "display_data"
    }
   ],
   "source": [
    "### Fill in the code below, assume strike price is 100\n",
    "S = np.arange(120, 90, -1)\n",
    "T = 0\n",
    "r = 0.03\n",
    "sigma = 0.3\n",
    "K = 100\n",
    "\n",
    "plt.figure()\n",
    "sns.lineplot(S,BS_call(S,T,r,K,sigma), label=\"100\" )\n",
    "\n",
    "plt.xlabel('S')\n",
    "plt.ylabel('C(T=0)')\n",
    "\n",
    "plt.legend()\n",
    "plt.show()"
   ]
  },
  {
   "cell_type": "markdown",
   "metadata": {
    "id": "JGvVdRRz_jT0"
   },
   "source": [
    "**Monte Carlo Simulation**\n",
    "\n",
    "Remember the Monte Carlo simulation that we did in the beginning? Turns out it can also be used for option pricing, and can obtain the same result as the BS model. \n",
    "\n",
    "Remember that we simulated the stock price after some period of time with the GBM model? Recall that $S_T$ follows a lognormal distribution with parameters\n",
    "\n",
    "$$\\mathop{\\mathbb{E}}[\\log{S_T}]=\\log{S_0}+\\mu T - 1/2\\sigma^2T$$ and $$\\text{var}{[\\log{S_T}]}=\\sigma^2T$$\n",
    "\n",
    "We substituted the drift $\\mu$ with the risk-free rate $r$. Therefore $\\mathop{\\mathbb{E}}[\\log{S_T}]=\\log{S_0}+rT - 1/2\\sigma^2T$.\n",
    "\n",
    "Now, suppose that we want to purchase a call option on this stock with strike price $K$. The expiration time is just the ending time $T$. We also know that the value of the call option at expiration is $\\max(S_T-K,0)$. We can now generate stock ending price from the above lognormal distribution, and then calculate the corresponding call option value at expiration. Note that what we obtain from this is the value of option at the date of expiration, so to calculate the current option value, we need to discount it to the present value by multiplying it with $e^{-rT}$\n",
    "\n",
    "Take a step backward, generating a stock ending price from the lognormal distribution is exactly what we did with the GBM model simulation in the first section! Therefore, all we need is to bring back the GBM and calculate the option price from it.\n"
   ]
  },
  {
   "cell_type": "code",
   "execution_count": 39,
   "metadata": {
    "id": "bLvyzFvWf2jK"
   },
   "outputs": [
    {
     "data": {
      "image/png": "[encoded data removed]",
      "text/plain": [
       "<Figure size 432x288 with 1 Axes>"
      ]
     },
     "metadata": {
      "needs_background": "light"
     },
     "output_type": "display_data"
    }
   ],
   "source": [
    "##### Monte Carlo simulation for option price.\n",
    "\n",
    "S_0 = 100 # Current price\n",
    "r = 0.03 # Risk-free rate\n",
    "T = 1.0 # 1 year to expiration\n",
    "sigma = 0.3 # Volatility\n",
    "\n",
    "# Please experiment with different strike values\n",
    "K = 105\n",
    "\n",
    "results = []\n",
    "\n",
    "for i in range(3000):\n",
    "    ### Fill in the code below\n",
    "    option_mc = GBM(start_price = 100, time = 1, drift = 0.03, volatility = 0.4) # Note here the drift is the risk-free interest rate\n",
    "    option_mc.simulation()\n",
    "    S_T = 100\n",
    "    C_T = BS_call(S,T,r,K,sigma)\n",
    "    C_0 = BS_call(S,0,r,K,sigma)\n",
    "    results.append(C_0)\n",
    "\n",
    "# Calculate the average of the results.\n",
    "results_mean = np.mean(results)\n",
    "\n",
    "# Plot the result\n",
    "plt.hist(results,bins=50,density=True,label='Simulation result')\n",
    "# Plot the mean\n",
    "plt.axvline(results_mean,color='r',label='Mean value')\n",
    "plt.xlabel('Call Option Value')\n",
    "plt.ylabel('Density')\n",
    "plt.legend()\n",
    "plt.show()"
   ]
  },
  {
   "cell_type": "markdown",
   "metadata": {
    "id": "7T2JF2MGlfAn"
   },
   "source": [
    "Now, let's compare the results of Monte Carlo with the BS model."
   ]
  },
  {
   "cell_type": "code",
   "execution_count": 40,
   "metadata": {
    "id": "SuMTDNoHlk4B"
   },
   "outputs": [
    {
     "name": "stdout",
     "output_type": "stream",
     "text": [
      "Call option value from Monte Carlo: nan\n",
      "Call option value from Black-Scholes: 5.888508921889766\n"
     ]
    }
   ],
   "source": [
    "BS_value = BS_call(S_0, T, r, K, sigma)\n",
    "print('Call option value from Monte Carlo:',results_mean)\n",
    "print('Call option value from Black-Scholes:', BS_value)"
   ]
  },
  {
   "cell_type": "markdown",
   "metadata": {
    "id": "XVCZEpwnw6uU"
   },
   "source": [
    "*Optional*: In the above we tried generate samples using GBM and calculate the option price. Instead of using GBM, you can try to generate ending price samples directly from the theoretical lognormal distribution and then compute the option value. The result should be closer to the BS model because it eliminates the uncertainties associated with generating from GBM."
   ]
  }
 ],
 "metadata": {
  "colab": {
   "name": "Options Trading PCW.ipynb",
   "provenance": []
  },
  "kernelspec": {
   "display_name": "Python 3",
   "language": "python",
   "name": "python3"
  },
  "language_info": {
   "codemirror_mode": {
    "name": "ipython",
    "version": 3
   },
   "file_extension": ".py",
   "mimetype": "text/x-python",
   "name": "python",
   "nbconvert_exporter": "python",
   "pygments_lexer": "ipython3",
   "version": "3.7.4"
  }
 },
 "nbformat": 4,
 "nbformat_minor": 1
}
